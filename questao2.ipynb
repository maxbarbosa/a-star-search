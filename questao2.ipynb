{
 "cells": [
  {
   "attachments": {},
   "cell_type": "markdown",
   "metadata": {},
   "source": [
    "<h3>\n",
    "Universidade Federal da Paraíba <br>\n",
    "Centro de Informática <br>\n",
    "Bacharelado em Ciência de Dados e Inteligência Artificial <br>\n",
    "Disciplina: Introdução à Inteligência Artificial <br>\n",
    "Docente: Andrei Formiga <br>\n",
    "<h3>\n",
    "<h4>\n",
    "Discentes:<br> \n",
    "Maxwel Barbosa<br>\n",
    "Vinícius Freitas<br>\n",
    "Vinícius Vieri <br>\n",
    "<h4>\n",
    "\n"
   ]
  },
  {
   "attachments": {},
   "cell_type": "markdown",
   "metadata": {},
   "source": [
    "<center><h3>Atividade 7 - Algoritmo A⭐️<h3></center>"
   ]
  },
  {
   "cell_type": "code",
   "execution_count": 1,
   "metadata": {},
   "outputs": [],
   "source": [
    "from a_star_search import *"
   ]
  },
  {
   "cell_type": "code",
   "execution_count": 2,
   "metadata": {},
   "outputs": [],
   "source": [
    "no_arad = No('Arad', 0, None, None)"
   ]
  },
  {
   "cell_type": "code",
   "execution_count": 3,
   "metadata": {},
   "outputs": [],
   "source": [
    "prob_arad_bucharest = Problema(estados_romenia, no_arad, lambda no: no.estado == 'Bucharest')"
   ]
  },
  {
   "cell_type": "code",
   "execution_count": 4,
   "metadata": {},
   "outputs": [],
   "source": [
    "a_star_arad_bucharest = BuscaAStar(prob_arad_bucharest)"
   ]
  },
  {
   "cell_type": "code",
   "execution_count": 5,
   "metadata": {},
   "outputs": [
    {
     "data": {
      "text/plain": [
       "[(Arad, custo = 0, f = 366)]"
      ]
     },
     "execution_count": 5,
     "metadata": {},
     "output_type": "execute_result"
    }
   ],
   "source": [
    "a_star_arad_bucharest.fronteira"
   ]
  },
  {
   "cell_type": "code",
   "execution_count": 6,
   "metadata": {},
   "outputs": [
    {
     "data": {
      "text/plain": [
       "[(Sibiu, custo = 140, f = 393),\n",
       " (Zerind, custo = 75, f = 449),\n",
       " (Timisoara, custo = 118, f = 447)]"
      ]
     },
     "execution_count": 6,
     "metadata": {},
     "output_type": "execute_result"
    }
   ],
   "source": [
    "a_star_arad_bucharest.passo_busca()\n",
    "a_star_arad_bucharest.fronteira"
   ]
  },
  {
   "cell_type": "code",
   "execution_count": 7,
   "metadata": {},
   "outputs": [
    {
     "data": {
      "text/plain": [
       "[(Rimnicu Vilcea, custo = 80, f = 273),\n",
       " (Fagaras, custo = 99, f = 275),\n",
       " (Oradea, custo = 151, f = 531),\n",
       " (Zerind, custo = 75, f = 449),\n",
       " (Timisoara, custo = 118, f = 447)]"
      ]
     },
     "execution_count": 7,
     "metadata": {},
     "output_type": "execute_result"
    }
   ],
   "source": [
    "a_star_arad_bucharest.passo_busca()\n",
    "a_star_arad_bucharest.fronteira"
   ]
  },
  {
   "cell_type": "code",
   "execution_count": 8,
   "metadata": {},
   "outputs": [
    {
     "data": {
      "text/plain": [
       "[(Pitesti, custo = 97, f = 197),\n",
       " (Craiova, custo = 146, f = 306),\n",
       " (Fagaras, custo = 99, f = 275),\n",
       " (Zerind, custo = 75, f = 449),\n",
       " (Timisoara, custo = 118, f = 447),\n",
       " (Oradea, custo = 151, f = 531)]"
      ]
     },
     "execution_count": 8,
     "metadata": {},
     "output_type": "execute_result"
    }
   ],
   "source": [
    "a_star_arad_bucharest.passo_busca()\n",
    "a_star_arad_bucharest.fronteira"
   ]
  },
  {
   "cell_type": "code",
   "execution_count": 9,
   "metadata": {},
   "outputs": [
    {
     "data": {
      "text/plain": [
       "[(Bucharest, custo = 101, f = 101),\n",
       " (Craiova, custo = 146, f = 306),\n",
       " (Fagaras, custo = 99, f = 275),\n",
       " (Zerind, custo = 75, f = 449),\n",
       " (Timisoara, custo = 118, f = 447),\n",
       " (Oradea, custo = 151, f = 531)]"
      ]
     },
     "execution_count": 9,
     "metadata": {},
     "output_type": "execute_result"
    }
   ],
   "source": [
    "a_star_arad_bucharest.passo_busca()\n",
    "a_star_arad_bucharest.fronteira"
   ]
  },
  {
   "cell_type": "code",
   "execution_count": 10,
   "metadata": {},
   "outputs": [
    {
     "data": {
      "text/plain": [
       "[(Fagaras, custo = 99, f = 275),\n",
       " (Craiova, custo = 146, f = 306),\n",
       " (Oradea, custo = 151, f = 531),\n",
       " (Zerind, custo = 75, f = 449),\n",
       " (Timisoara, custo = 118, f = 447)]"
      ]
     },
     "execution_count": 10,
     "metadata": {},
     "output_type": "execute_result"
    }
   ],
   "source": [
    "a_star_arad_bucharest.passo_busca()\n",
    "a_star_arad_bucharest.fronteira"
   ]
  },
  {
   "cell_type": "code",
   "execution_count": 11,
   "metadata": {},
   "outputs": [
    {
     "name": "stdout",
     "output_type": "stream",
     "text": [
      "Busca chegou ao objetivo com sucesso\n"
     ]
    },
    {
     "data": {
      "text/plain": [
       "[(Arad, custo = 0, f = 366),\n",
       " (Sibiu, custo = 140, f = 393),\n",
       " (Rimnicu Vilcea, custo = 80, f = 273),\n",
       " (Pitesti, custo = 97, f = 197),\n",
       " (Bucharest, custo = 101, f = 101)]"
      ]
     },
     "execution_count": 11,
     "metadata": {},
     "output_type": "execute_result"
    }
   ],
   "source": [
    "a_star_arad_bucharest.passo_busca()\n",
    "a_star_arad_bucharest.solucao\n"
   ]
  }
 ],
 "metadata": {
  "kernelspec": {
   "display_name": "Python 3",
   "language": "python",
   "name": "python3"
  },
  "language_info": {
   "codemirror_mode": {
    "name": "ipython",
    "version": 3
   },
   "file_extension": ".py",
   "mimetype": "text/x-python",
   "name": "python",
   "nbconvert_exporter": "python",
   "pygments_lexer": "ipython3",
   "version": "3.8.10"
  },
  "orig_nbformat": 4
 },
 "nbformat": 4,
 "nbformat_minor": 2
}
