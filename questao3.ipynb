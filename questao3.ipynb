{
 "cells": [
  {
   "attachments": {},
   "cell_type": "markdown",
   "metadata": {},
   "source": [
    "<h3>\n",
    "Universidade Federal da Paraíba <br>\n",
    "Centro de Informática <br>\n",
    "Bacharelado em Ciência de Dados e Inteligência Artificial <br>\n",
    "Disciplina: Introdução à Inteligência Artificial <br>\n",
    "Docente: Andrei Formiga <br>\n",
    "<h3>\n",
    "<h4>\n",
    "Discentes:<br> \n",
    "Maxwel Barbosa<br>\n",
    "Vinícius Freitas<br>\n",
    "Vinícius Vieri <br>\n",
    "<h4>\n",
    "\n"
   ]
  },
  {
   "attachments": {},
   "cell_type": "markdown",
   "metadata": {},
   "source": [
    "<center><h3>Atividade 7 - Algoritmo A⭐️<h3></center>"
   ]
  },
  {
   "cell_type": "code",
   "execution_count": 1,
   "metadata": {},
   "outputs": [],
   "source": [
    "from a_star_search import *\n",
    "from random import randint, seed\n",
    "seed(5)"
   ]
  },
  {
   "cell_type": "code",
   "execution_count": 2,
   "metadata": {},
   "outputs": [
    {
     "name": "stdout",
     "output_type": "stream",
     "text": [
      "19 8\n"
     ]
    }
   ],
   "source": [
    "#escolhendo duas origens distintas aleatoriamente para o problema da romenia\n",
    "i = randint(0, len(estados_romenia)-1)\n",
    "j = randint(0, len(estados_romenia)-1)\n",
    "\n",
    "print(i, j)"
   ]
  },
  {
   "cell_type": "code",
   "execution_count": 3,
   "metadata": {},
   "outputs": [
    {
     "data": {
      "text/plain": [
       "'Neamt'"
      ]
     },
     "execution_count": 3,
     "metadata": {},
     "output_type": "execute_result"
    }
   ],
   "source": [
    "origem1 = estados_romenia[i]['estado']\n",
    "origem1"
   ]
  },
  {
   "cell_type": "code",
   "execution_count": 4,
   "metadata": {},
   "outputs": [
    {
     "data": {
      "text/plain": [
       "'Craiova'"
      ]
     },
     "execution_count": 4,
     "metadata": {},
     "output_type": "execute_result"
    }
   ],
   "source": [
    "origem2 = estados_romenia[j]['estado']\n",
    "origem2"
   ]
  },
  {
   "cell_type": "code",
   "execution_count": 5,
   "metadata": {},
   "outputs": [],
   "source": [
    "no_neamt = No('Neamt', 0, None, None)\n",
    "no_craiova = No('Craiova', 0, None, None)"
   ]
  },
  {
   "cell_type": "code",
   "execution_count": 6,
   "metadata": {},
   "outputs": [],
   "source": [
    "prob_neamt_bucharest = Problema(estados_romenia, no_neamt, lambda no: no.estado == 'Bucharest')\n",
    "prob_craiova_bucharest = Problema(estados_romenia, no_craiova, lambda no: no.estado == 'Bucharest')"
   ]
  },
  {
   "cell_type": "code",
   "execution_count": 7,
   "metadata": {},
   "outputs": [],
   "source": [
    "a_star_neamt_bucharest = BuscaAStar(prob_neamt_bucharest)\n",
    "a_star_craiova_bucharest = BuscaAStar(prob_craiova_bucharest)"
   ]
  },
  {
   "cell_type": "code",
   "execution_count": 8,
   "metadata": {},
   "outputs": [
    {
     "name": "stdout",
     "output_type": "stream",
     "text": [
      "[(Iasi, custo = 87, f = 313)]\n",
      "[(Vaslui, custo = 92, f = 291)]\n",
      "[(Urziceni, custo = 142, f = 222)]\n",
      "[(Bucharest, custo = 85, f = 85), (Hirsova, custo = 98, f = 249)]\n",
      "[(Hirsova, custo = 98, f = 249)]\n",
      "Busca chegou ao objetivo com sucesso\n"
     ]
    }
   ],
   "source": [
    "situacoes_finais = [BUSCA_SUCESSO, BUSCA_FALHOU]\n",
    "\n",
    "while a_star_neamt_bucharest.situacao not in situacoes_finais:\n",
    "    a_star_neamt_bucharest.passo_busca()\n",
    "    print(a_star_neamt_bucharest.fronteira)\n",
    "a_star_neamt_bucharest.passo_busca()"
   ]
  },
  {
   "cell_type": "code",
   "execution_count": 9,
   "metadata": {},
   "outputs": [
    {
     "name": "stdout",
     "output_type": "stream",
     "text": [
      "[(Pitesti, custo = 138, f = 238), (Drobeta, custo = 120, f = 362), (Rimnicu Vilcea, custo = 146, f = 339)]\n",
      "[(Bucharest, custo = 101, f = 101), (Drobeta, custo = 120, f = 362), (Rimnicu Vilcea, custo = 146, f = 339)]\n",
      "[(Rimnicu Vilcea, custo = 146, f = 339), (Drobeta, custo = 120, f = 362)]\n",
      "Busca chegou ao objetivo com sucesso\n"
     ]
    }
   ],
   "source": [
    "while a_star_craiova_bucharest.situacao not in situacoes_finais:\n",
    "    a_star_craiova_bucharest.passo_busca()\n",
    "    print(a_star_craiova_bucharest.fronteira)\n",
    "a_star_craiova_bucharest.passo_busca()"
   ]
  }
 ],
 "metadata": {
  "kernelspec": {
   "display_name": "Python 3",
   "language": "python",
   "name": "python3"
  },
  "language_info": {
   "codemirror_mode": {
    "name": "ipython",
    "version": 3
   },
   "file_extension": ".py",
   "mimetype": "text/x-python",
   "name": "python",
   "nbconvert_exporter": "python",
   "pygments_lexer": "ipython3",
   "version": "3.8.10"
  },
  "orig_nbformat": 4
 },
 "nbformat": 4,
 "nbformat_minor": 2
}
